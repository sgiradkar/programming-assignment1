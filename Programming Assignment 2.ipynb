{
 "cells": [
  {
   "cell_type": "markdown",
   "metadata": {},
   "source": [
    "1.\tWrite a Python program to convert kilometers to miles?"
   ]
  },
  {
   "cell_type": "code",
   "execution_count": 9,
   "metadata": {},
   "outputs": [
    {
     "name": "stdout",
     "output_type": "stream",
     "text": [
      "enter any value of kilometers: 10\n",
      "10.0 is equal to 6.21\n"
     ]
    }
   ],
   "source": [
    "km = float(input(\"enter any value of kilometers: \"))\n",
    "a = 0.621\n",
    "miles = km * a\n",
    "print(\"{} is equal to {}\".format(km,miles))"
   ]
  },
  {
   "cell_type": "markdown",
   "metadata": {},
   "source": [
    "2.\tWrite a Python program to convert Celsius to Fahrenheit?"
   ]
  },
  {
   "cell_type": "code",
   "execution_count": 11,
   "metadata": {},
   "outputs": [
    {
     "name": "stdout",
     "output_type": "stream",
     "text": [
      "enter any celcius value: 40.5\n",
      "40.5 is equal  to 104.9\n"
     ]
    }
   ],
   "source": [
    "cel = float(input(\"enter any celcius value: \"))\n",
    "fahrenheit = (cel * 1.8) + 32\n",
    "print(\"{} is equal  to {}\".format(cel,fahrenheit))"
   ]
  },
  {
   "cell_type": "markdown",
   "metadata": {},
   "source": [
    "3.\tWrite a Python program to display calendar?"
   ]
  },
  {
   "cell_type": "code",
   "execution_count": 18,
   "metadata": {},
   "outputs": [
    {
     "name": "stdout",
     "output_type": "stream",
     "text": [
      "enter year: 2021\n",
      "enetr any month:5\n",
      "      May 2021\n",
      "Mo Tu We Th Fr Sa Su\n",
      "                1  2\n",
      " 3  4  5  6  7  8  9\n",
      "10 11 12 13 14 15 16\n",
      "17 18 19 20 21 22 23\n",
      "24 25 26 27 28 29 30\n",
      "31\n",
      "\n"
     ]
    }
   ],
   "source": [
    "import calendar\n",
    "\n",
    "yy = int(input(\"enter year: \"))\n",
    "mm = int(input(\"enetr any month:\"))\n",
    "\n",
    "print(calendar.month(yy,mm))"
   ]
  },
  {
   "cell_type": "markdown",
   "metadata": {},
   "source": [
    "4.\tWrite a Python program to solve quadratic equation?"
   ]
  },
  {
   "cell_type": "code",
   "execution_count": 52,
   "metadata": {},
   "outputs": [
    {
     "name": "stdout",
     "output_type": "stream",
     "text": [
      "enter the value of a:-1\n",
      "enter the value of b:2\n",
      "enter the value of c:-20\n",
      "1.0  + i 8.717797887081348\n",
      "1.0  - i 8.717797887081348\n",
      " the roots are Complex \n"
     ]
    }
   ],
   "source": [
    "#quadratic equation - ax**2 + bx +c = 0 where a ,b,c are coefficients.\n",
    "\n",
    "import math\n",
    "\n",
    "def quad_equ(a,b,c):\n",
    "    d = b*b-4*a*c \n",
    "    squroot= math.sqrt(abs(d))\n",
    "    if d > 0:\n",
    "        print((-b + squroot)/(2 * a)) \n",
    "        print((-b - squroot)/(2 * a)) \n",
    "        print(\" the roots are real and different: \") \n",
    "    elif d < 0:\n",
    "        print(- b / (2 * a), \" + i\", squroot) \n",
    "        print(- b / (2 * a), \" - i\", squroot) \n",
    "        print(\" the roots are Complex \") \n",
    "    else: \n",
    "        print(-b / (2 * a)) \n",
    "        print(\"  the roots are real and same\") \n",
    "\n",
    "a = int(input(\"enter the value of a:\"))\n",
    "b = int(input(\"enter the value of b:\"))\n",
    "c = int(input(\"enter the value of c:\"))\n",
    " \n",
    "if a == 0:\n",
    "    print(\"entered value of a must be nonzero: \")\n",
    "    \n",
    "else:   \n",
    "    quad_equ(a,b,c)"
   ]
  },
  {
   "cell_type": "markdown",
   "metadata": {},
   "source": [
    "5.\tWrite a Python program to swap two variables without temp variable?"
   ]
  },
  {
   "cell_type": "code",
   "execution_count": 40,
   "metadata": {},
   "outputs": [
    {
     "name": "stdout",
     "output_type": "stream",
     "text": [
      "enter the number:2\n",
      "enter other number:3\n",
      "after swapping a is 3 and b is 2\n"
     ]
    }
   ],
   "source": [
    "a = int(input(\"enter the number:\"))\n",
    "b = int(input(\"enter other number:\"))\n",
    "a = a + b\n",
    "b = a - b\n",
    "a = a - b\n",
    "print( \"after swapping a is {} and b is {}\".format(a,b) )\n"
   ]
  }
 ],
 "metadata": {
  "kernelspec": {
   "display_name": "Python 3",
   "language": "python",
   "name": "python3"
  },
  "language_info": {
   "codemirror_mode": {
    "name": "ipython",
    "version": 3
   },
   "file_extension": ".py",
   "mimetype": "text/x-python",
   "name": "python",
   "nbconvert_exporter": "python",
   "pygments_lexer": "ipython3",
   "version": "3.8.5"
  }
 },
 "nbformat": 4,
 "nbformat_minor": 4
}
