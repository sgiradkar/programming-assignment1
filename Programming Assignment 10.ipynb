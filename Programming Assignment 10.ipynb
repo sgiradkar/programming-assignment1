{
 "cells": [
  {
   "cell_type": "markdown",
   "metadata": {},
   "source": [
    "### 1.\tWrite a Python program to find sum of elements in list?\n"
   ]
  },
  {
   "cell_type": "code",
   "execution_count": 6,
   "metadata": {},
   "outputs": [
    {
     "name": "stdout",
     "output_type": "stream",
     "text": [
      "166\n"
     ]
    }
   ],
   "source": [
    "def add_l(l):\n",
    "    total=0\n",
    "    for i in l:\n",
    "        total=total+i\n",
    "    return total\n",
    "\n",
    "num=[1,2,3,4,5,6,7,8,9,10,11,20,30,50]\n",
    "print(add_l(num))"
   ]
  },
  {
   "cell_type": "markdown",
   "metadata": {},
   "source": [
    "### 2.\tWrite a Python program to  Multiply all numbers in the list?\n"
   ]
  },
  {
   "cell_type": "code",
   "execution_count": 8,
   "metadata": {},
   "outputs": [
    {
     "name": "stdout",
     "output_type": "stream",
     "text": [
      "4800\n"
     ]
    }
   ],
   "source": [
    "def multi_l(l):\n",
    "    total=1\n",
    "    for i in l:\n",
    "        total=total*i\n",
    "    return total\n",
    "\n",
    "num=[2,5,8,6,10]\n",
    "print(multi_l(num))"
   ]
  },
  {
   "cell_type": "markdown",
   "metadata": {},
   "source": [
    "### 3.\tWrite a Python program to find smallest number in a list?\n"
   ]
  },
  {
   "cell_type": "code",
   "execution_count": 1,
   "metadata": {},
   "outputs": [
    {
     "name": "stdout",
     "output_type": "stream",
     "text": [
      "Smallest element is: 9\n"
     ]
    }
   ],
   "source": [
    "l = [11, 120, 112, 45, 9]\n",
    "\n",
    "print(\"Smallest element is:\", min(l))"
   ]
  },
  {
   "cell_type": "markdown",
   "metadata": {},
   "source": [
    "### 4.\tWrite a Python program to find largest number in a list?\n"
   ]
  },
  {
   "cell_type": "code",
   "execution_count": 2,
   "metadata": {},
   "outputs": [
    {
     "name": "stdout",
     "output_type": "stream",
     "text": [
      "largest element is: 120\n"
     ]
    }
   ],
   "source": [
    "l = [11, 120, 112, 45, 9]\n",
    "\n",
    "print(\"largest element is:\", max(l))"
   ]
  },
  {
   "cell_type": "markdown",
   "metadata": {},
   "source": [
    "### 5.\tWrite a Python program to find second largest number in a list?\n"
   ]
  },
  {
   "cell_type": "code",
   "execution_count": 3,
   "metadata": {},
   "outputs": [
    {
     "name": "stdout",
     "output_type": "stream",
     "text": [
      "112\n"
     ]
    }
   ],
   "source": [
    "l = [11, 120, 112, 45, 9]\n",
    " \n",
    "new_l = set(l)\n",
    "new_l.remove(max(new_l))\n",
    " \n",
    "print(max(new_l))"
   ]
  },
  {
   "cell_type": "markdown",
   "metadata": {},
   "source": [
    "### 6.\tWrite a Python program to find N largest elements from a list?\n"
   ]
  },
  {
   "cell_type": "code",
   "execution_count": 11,
   "metadata": {},
   "outputs": [
    {
     "name": "stdout",
     "output_type": "stream",
     "text": [
      "4 max elements in  [22, 46, 41, 85, 30, 83, 77, 66, 120]\n",
      "[120, 85, 83, 77]\n"
     ]
    }
   ],
   "source": [
    "def n_large_element(l, N):\n",
    "    res = []\n",
    "  \n",
    "    for i in range(0, N): \n",
    "        maximum = 0\n",
    "          \n",
    "        for j in range(len(l)):     \n",
    "            if l[j] > maximum:\n",
    "                maximum = l[j]\n",
    "                  \n",
    "        l.remove(maximum)\n",
    "        res.append(maximum)\n",
    "          \n",
    "    return res\n",
    "  \n",
    "l1 = [22, 46, 41, 85, 30, 83, 77, 66, 120]\n",
    "N = 4\n",
    "\n",
    "print(N, \"max elements in \",l1)\n",
    "print(n_large_element(l1, N))"
   ]
  },
  {
   "cell_type": "markdown",
   "metadata": {},
   "source": [
    "### 7.\tWrite a Python program to print even numbers in a list?\n"
   ]
  },
  {
   "cell_type": "code",
   "execution_count": 10,
   "metadata": {},
   "outputs": [
    {
     "name": "stdout",
     "output_type": "stream",
     "text": [
      "[6, 8, 42, 26, 48]\n"
     ]
    }
   ],
   "source": [
    "def even_num(l):\n",
    "    even=[]\n",
    "    for i in l:\n",
    "        if i%2==0:\n",
    "            even.append(i)\n",
    "    return even\n",
    "num=[5,6,9,8,7,53,42,26,48]\n",
    "print(even_num(num))"
   ]
  },
  {
   "cell_type": "markdown",
   "metadata": {},
   "source": [
    "### 8.\tWrite a Python program to print odd numbers in a List?\n"
   ]
  },
  {
   "cell_type": "code",
   "execution_count": 11,
   "metadata": {},
   "outputs": [
    {
     "name": "stdout",
     "output_type": "stream",
     "text": [
      "[5, 9, 7, 53]\n"
     ]
    }
   ],
   "source": [
    "def odd_num(l):\n",
    "    odd=[]\n",
    "    for i in l:\n",
    "        if i%2!=0:\n",
    "            odd.append(i)\n",
    "    return odd\n",
    "num=[5,6,9,8,7,53,42,26,48]\n",
    "print(odd_num(num))"
   ]
  },
  {
   "cell_type": "markdown",
   "metadata": {},
   "source": [
    "### 9.\tWrite a Python program to Remove empty List from List?\n"
   ]
  },
  {
   "cell_type": "code",
   "execution_count": 13,
   "metadata": {},
   "outputs": [
    {
     "name": "stdout",
     "output_type": "stream",
     "text": [
      "The input list is : [98, 26, [], 23, [], 8, [], 9]\n",
      "List after  removal of empty list : [98, 26, 23, 8, 9]\n"
     ]
    }
   ],
   "source": [
    "l = [98, 26, [], 23, [],8, [], 9]\n",
    "\n",
    "print(f\"The input list is : {l}\")\n",
    "\n",
    "res = [n for n in l if n!= []]\n",
    "\n",
    "print (f\"List after  removal of empty list : {res}\")\n",
    "            "
   ]
  },
  {
   "cell_type": "markdown",
   "metadata": {},
   "source": [
    "### 10.\tWrite a Python program to Cloning or Copying a list?\n"
   ]
  },
  {
   "cell_type": "code",
   "execution_count": 15,
   "metadata": {},
   "outputs": [
    {
     "name": "stdout",
     "output_type": "stream",
     "text": [
      "Original List is:[4, 8, 2, 10, 15, 18]\n",
      "After Copying is:[4, 8, 2, 10, 15, 18]\n"
     ]
    }
   ],
   "source": [
    "def Cloning_list(l):\n",
    "    l_copy = list(l)\n",
    "    return l_copy\n",
    "  \n",
    "l1 = [4, 8, 2, 10, 15, 18]\n",
    "l2 = Cloning_list(l1)\n",
    "print(f\"Original List is:{l1}\")\n",
    "print(f\"After Copying is:{l2}\")"
   ]
  },
  {
   "cell_type": "markdown",
   "metadata": {},
   "source": [
    "### 11.\tWrite a Python program to Count occurrences of an element in a list?\n"
   ]
  },
  {
   "cell_type": "code",
   "execution_count": 17,
   "metadata": {},
   "outputs": [
    {
     "name": "stdout",
     "output_type": "stream",
     "text": [
      "28 has occurred 4 times\n"
     ]
    }
   ],
   "source": [
    "def count_ele(l, n):\n",
    "    count = 0\n",
    "    for i in l:\n",
    "        if (i == n):\n",
    "            count = count + 1\n",
    "    return count\n",
    " \n",
    "\n",
    "l1 = [28, 36, 28, 10,28, 20, 10, 28, 18]\n",
    "n= 28\n",
    "a=count_ele(l1,n)\n",
    "print(f'{n} has occurred {a} times')"
   ]
  }
 ],
 "metadata": {
  "kernelspec": {
   "display_name": "Python 3",
   "language": "python",
   "name": "python3"
  },
  "language_info": {
   "codemirror_mode": {
    "name": "ipython",
    "version": 3
   },
   "file_extension": ".py",
   "mimetype": "text/x-python",
   "name": "python",
   "nbconvert_exporter": "python",
   "pygments_lexer": "ipython3",
   "version": "3.8.5"
  }
 },
 "nbformat": 4,
 "nbformat_minor": 4
}
