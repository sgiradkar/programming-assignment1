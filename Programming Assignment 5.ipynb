{
 "cells": [
  {
   "cell_type": "markdown",
   "metadata": {},
   "source": [
    "1.\tWrite a Python Program to Find LCM?"
   ]
  },
  {
   "cell_type": "code",
   "execution_count": 19,
   "metadata": {},
   "outputs": [
    {
     "name": "stdout",
     "output_type": "stream",
     "text": [
      "enter the  first value: 12\n",
      "enter the second value: 14\n",
      "lcm of 12 and 14 is 84 \n"
     ]
    }
   ],
   "source": [
    "def find_lcm(num1,num2):\n",
    "    if num1 >num2:\n",
    "        high_num = num1\n",
    "    else:\n",
    "        high_num = num2\n",
    "    i= high_num\n",
    "    while True:\n",
    "        if high_num % num1 ==0 and high_num % num2 ==0:\n",
    "            print(\"lcm of {} and {} is {} \".format(num1,num2,high_num))\n",
    "            break\n",
    "        else:\n",
    "            high_num = high_num + i \n",
    "            \n",
    "num1 = int(input(\"enter the  first value: \"))\n",
    "num2= int(input(\"enter the second value: \"))\n",
    "find_lcm(num1,num2)"
   ]
  },
  {
   "cell_type": "markdown",
   "metadata": {},
   "source": [
    "2.\tWrite a Python Program to Find HCF?"
   ]
  },
  {
   "cell_type": "code",
   "execution_count": 27,
   "metadata": {},
   "outputs": [
    {
     "name": "stdout",
     "output_type": "stream",
     "text": [
      "enter the  first value: 48\n",
      "enter the second value: 54\n",
      "6\n"
     ]
    }
   ],
   "source": [
    "def find_hcf(a,b):\n",
    "    if b==0:\n",
    "        return a    \n",
    "    else:\n",
    "        return find_hcf(b, a%b)\n",
    "\n",
    "a = int(input(\"enter the  first value: \"))\n",
    "b= int(input(\"enter the second value: \"))\n",
    "print(find_hcf(a,b))"
   ]
  },
  {
   "cell_type": "markdown",
   "metadata": {},
   "source": [
    "3.\tWrite a Python Program to Convert Decimal to Binary, Octal and Hexadecimal?"
   ]
  },
  {
   "cell_type": "code",
   "execution_count": 15,
   "metadata": {},
   "outputs": [
    {
     "name": "stdout",
     "output_type": "stream",
     "text": [
      "enter the value: 140\n",
      "the conversion of 140 is \n",
      "0b10001100 in binary\n",
      "0o214 in octal\n",
      "0x8c in hexadecimal\n"
     ]
    }
   ],
   "source": [
    "dec_num = int(input(\"enter the value: \"))\n",
    "print(\"the conversion of {} is \".format(dec_num))\n",
    "print(bin(dec_num), \"in binary\" )\n",
    "print(oct(dec_num), \"in octal\" )\n",
    "print(hex(dec_num), \"in hexadecimal\" )"
   ]
  },
  {
   "cell_type": "markdown",
   "metadata": {},
   "source": [
    "4.\tWrite a Python Program To Find ASCII value of a character?"
   ]
  },
  {
   "cell_type": "code",
   "execution_count": 12,
   "metadata": {},
   "outputs": [
    {
     "name": "stdout",
     "output_type": "stream",
     "text": [
      "enter the string: S\n",
      "the ASCII value is  83\n"
     ]
    }
   ],
   "source": [
    "string = input(\"enter the string: \")\n",
    "for char in string:\n",
    "    print(\"the ASCII value is \" ,ord(char))"
   ]
  },
  {
   "cell_type": "markdown",
   "metadata": {},
   "source": [
    "5.\tWrite a Python Program to Make a Simple Calculator with 4 basic mathematical operations?"
   ]
  },
  {
   "cell_type": "code",
   "execution_count": 6,
   "metadata": {},
   "outputs": [
    {
     "name": "stdout",
     "output_type": "stream",
     "text": [
      "select one operation-1.addition,2.substraction,3.multiplication,4.division\n",
      "enter operation:4\n",
      "enter any number1:6\n",
      "enter any number2:3\n",
      "2.0\n"
     ]
    }
   ],
   "source": [
    "def cal_add(a,b):\n",
    "    return a+b\n",
    "def cal_subtract(a,b):\n",
    "    return a-b\n",
    "def cal_multi(a,b):\n",
    "    return a*b\n",
    "def cal_div(a,b):\n",
    "    return a/b\n",
    "print(\"select one operation-1.addition,2.substraction,3.multiplication,4.division\")\n",
    "select_op =int(input(\"enter operation:\"))\n",
    "p = int(input(\"enter any number1:\"))\n",
    "q = int(input(\"enter any number2:\"))\n",
    "if select_op == 1:\n",
    "    res= cal_add(p,q)\n",
    "    print(res)\n",
    "if select_op == 2:\n",
    "    res= cal_subtract(p,q)\n",
    "    print(res)\n",
    "if select_op == 3:\n",
    "    res= cal_multi(p,q)\n",
    "    print(res)\n",
    "if select_op == 4:\n",
    "    res= cal_div(p,q)\n",
    "    print(res)\n",
    "            \n",
    "    "
   ]
  }
 ],
 "metadata": {
  "kernelspec": {
   "display_name": "Python 3",
   "language": "python",
   "name": "python3"
  },
  "language_info": {
   "codemirror_mode": {
    "name": "ipython",
    "version": 3
   },
   "file_extension": ".py",
   "mimetype": "text/x-python",
   "name": "python",
   "nbconvert_exporter": "python",
   "pygments_lexer": "ipython3",
   "version": "3.8.5"
  }
 },
 "nbformat": 4,
 "nbformat_minor": 4
}
