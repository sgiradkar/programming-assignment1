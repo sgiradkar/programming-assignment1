{
 "cells": [
  {
   "cell_type": "markdown",
   "metadata": {},
   "source": [
    "### 1.\tWrite a Python program to check if the given number is a Disarium Number?"
   ]
  },
  {
   "cell_type": "code",
   "execution_count": 35,
   "metadata": {},
   "outputs": [
    {
     "name": "stdout",
     "output_type": "stream",
     "text": [
      "enter any number:175\n",
      "Disarium number\n"
     ]
    }
   ],
   "source": [
    "def digits(num):\n",
    "    l=0\n",
    "    while(num>0):\n",
    "        num=num//10\n",
    "        l=l+1\n",
    "    return l\n",
    "def is_Disarium(x,num):\n",
    "    Sum=0\n",
    "    while(num>0):\n",
    "        rem=num%10\n",
    "        Sum=Sum+(rem**x)\n",
    "        x=x-1\n",
    "        num=num//10\n",
    "    return Sum\n",
    "n1=int(input(\"enter any number:\"))\n",
    "x=digits(n1)\n",
    "n2=is_Disarium(x,n1)\n",
    "if(n2==n1):\n",
    "    print(\"Disarium number\")\n",
    "else:\n",
    "    print(\"not Disarium number\")"
   ]
  },
  {
   "cell_type": "markdown",
   "metadata": {},
   "source": [
    "### 2.\tWrite a Python program to print all disarium numbers between 1 to 100?\n"
   ]
  },
  {
   "cell_type": "code",
   "execution_count": 1,
   "metadata": {},
   "outputs": [
    {
     "name": "stdout",
     "output_type": "stream",
     "text": [
      "enter lower num : 1\n",
      "enter higher num: 100\n",
      "disarium numbers in the range 1,100\n",
      "1 2 3 4 5 6 7 8 9 89 "
     ]
    }
   ],
   "source": [
    "def is_disarium(number):\n",
    "    no_digits = 0\n",
    "    num = number  \n",
    "    \n",
    "    while(num != 0):\n",
    "        no_digits = no_digits + 1\n",
    "        num = num//10\n",
    "        rem = 0\n",
    "        dis_num = 0   \n",
    "    \n",
    "    while(number > 0):\n",
    "        rem = number % 10\n",
    "        dis_num = dis_num + (rem**no_digits)\n",
    "        number = number//10\n",
    "        no_digits = no_digits - 1\n",
    "    \n",
    "    return dis_num\n",
    "\n",
    "lower = int(input(\"enter lower num : \"))\n",
    "upper = int(input(\"enter higher num: \"))\n",
    "print(f\"disarium numbers in the range {lower},{upper}\")\n",
    "for i in range(lower,upper+1):\n",
    "    if is_disarium(i) == i:\n",
    "        print(i,end=\" \")"
   ]
  },
  {
   "cell_type": "markdown",
   "metadata": {},
   "source": [
    "### 3.\tWrite a Python program to check if the given number is Happy Number?\n"
   ]
  },
  {
   "cell_type": "code",
   "execution_count": 37,
   "metadata": {},
   "outputs": [
    {
     "name": "stdout",
     "output_type": "stream",
     "text": [
      "Enter a number: 28\n",
      "28 is a Happy Number!!!\n"
     ]
    }
   ],
   "source": [
    "def is_happy_num(n):    \n",
    "    digit = sum = 0    \n",
    "    while(n > 0):    \n",
    "        digit = n % 10 \n",
    "        sum = sum + (digit * digit)    \n",
    "        n = n // 10   \n",
    "    return sum    \n",
    "        \n",
    "num = int(input(\"Enter a number: \"))    \n",
    "result = num    \n",
    "     \n",
    "while(result != 1 and result != 4):    \n",
    "    result = is_happy_num(result)   \n",
    "     \n",
    "if(result == 1):    \n",
    "    print( f\"{num} is a Happy Number!!!\")   \n",
    "else:    \n",
    "    print(f\"{num} is an Unhappy Number!!!\")"
   ]
  },
  {
   "cell_type": "markdown",
   "metadata": {},
   "source": [
    "### 4.\tWrite a Python program to print all happy numbers between 1 and 100?\n"
   ]
  },
  {
   "cell_type": "code",
   "execution_count": 40,
   "metadata": {},
   "outputs": [
    {
     "name": "stdout",
     "output_type": "stream",
     "text": [
      "enter lower num : 1\n",
      "enter higher num: 100\n",
      "happy numbers in the range 1,100\n",
      "1 7 10 13 19 23 28 31 32 44 49 68 70 79 82 86 91 94 97 100 "
     ]
    }
   ],
   "source": [
    "def check_happy(num):\n",
    "    rem=0\n",
    "    happy_num=0\n",
    "    \n",
    "    while(num>0):\n",
    "        rem=num %10\n",
    "        happy_num=happy_num +(rem*rem)\n",
    "        num = num//10\n",
    "    return happy_num\n",
    "\n",
    "lower = int(input(\"enter lower num : \"))\n",
    "upper = int(input(\"enter higher num: \"))\n",
    "print(f\"happy numbers in the range {lower},{upper}\")\n",
    "\n",
    "for i in range(lower,upper+1):\n",
    "    happy_num = i\n",
    "    while(happy_num != 1 and happy_num != 4):\n",
    "        happy_num = check_happy(happy_num)\n",
    "    if (happy_num==1):\n",
    "        print(i,end=\" \")\n",
    "        "
   ]
  },
  {
   "cell_type": "markdown",
   "metadata": {},
   "source": [
    "### 5.\tWrite a Python program to determine whether the given number is a Harshad Number?\n"
   ]
  },
  {
   "cell_type": "code",
   "execution_count": 7,
   "metadata": {},
   "outputs": [
    {
     "name": "stdout",
     "output_type": "stream",
     "text": [
      "Enter number: 153\n",
      "153 is Harshad Number\n"
     ]
    }
   ],
   "source": [
    "number = int(input('Enter number: '))\n",
    "n = number\n",
    "\n",
    "digit_sum = 0\n",
    "\n",
    "while number:\n",
    "    digit_sum += number%10\n",
    "    number //= 10\n",
    "    \n",
    "if n % digit_sum == 0:\n",
    "    print(f'{n} is Harshad Number')\n",
    "else:\n",
    "    print(f'{n} is Not Harshad Number')"
   ]
  },
  {
   "cell_type": "markdown",
   "metadata": {},
   "source": [
    "### 6.\tWrite a Python program to print all pronic numbers between 1 and 100?\n"
   ]
  },
  {
   "cell_type": "code",
   "execution_count": 11,
   "metadata": {},
   "outputs": [
    {
     "name": "stdout",
     "output_type": "stream",
     "text": [
      "Enter a number: 6\n",
      "6 is Pronic number\n"
     ]
    }
   ],
   "source": [
    "num = int(input(\"Enter a number: \"))\n",
    "j = 0\n",
    "for i in range(num):\n",
    "    if i * (i + 1) == num:\n",
    "        j = 1\n",
    "        break\n",
    "if j==1:\n",
    "    print(f\"{num} is Pronic number\")\n",
    "else:\n",
    "    print(f\"{num} is not a Pronic number\")"
   ]
  }
 ],
 "metadata": {
  "kernelspec": {
   "display_name": "Python 3",
   "language": "python",
   "name": "python3"
  },
  "language_info": {
   "codemirror_mode": {
    "name": "ipython",
    "version": 3
   },
   "file_extension": ".py",
   "mimetype": "text/x-python",
   "name": "python",
   "nbconvert_exporter": "python",
   "pygments_lexer": "ipython3",
   "version": "3.8.5"
  }
 },
 "nbformat": 4,
 "nbformat_minor": 4
}
