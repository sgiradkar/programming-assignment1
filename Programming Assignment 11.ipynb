{
 "cells": [
  {
   "cell_type": "markdown",
   "metadata": {},
   "source": [
    "### 1.\tWrite a Python program to find words which are greater than given length k?\n"
   ]
  },
  {
   "cell_type": "code",
   "execution_count": 9,
   "metadata": {},
   "outputs": [
    {
     "name": "stdout",
     "output_type": "stream",
     "text": [
      "Enter the string : Full stack data science course\n",
      "Enter the value of i : 5\n",
      "All words which are greater than given length  5, ['science', 'course']\n"
     ]
    }
   ],
   "source": [
    "input_str =  input('Enter the string : ')\n",
    "i = int(input('Enter the value of i : '))\n",
    "greater_str = []\n",
    "\n",
    "\n",
    "word = input_str.split(\" \")\n",
    "for j in word:\n",
    "    if len(j) > i:\n",
    "        greater_str.append(j)\n",
    "\n",
    "print(f\"All words which are greater than given length  {i}, {greater_str}\")"
   ]
  },
  {
   "cell_type": "markdown",
   "metadata": {},
   "source": [
    "### 2.\tWrite a Python program for removing i-th character from a string?\n"
   ]
  },
  {
   "cell_type": "code",
   "execution_count": 17,
   "metadata": {},
   "outputs": [
    {
     "name": "stdout",
     "output_type": "stream",
     "text": [
      "Enter the string : Hello world\n",
      "Enter the value of i : 3\n",
      "result after removal  of ith charcter: Helo world\n"
     ]
    }
   ],
   "source": [
    "input_str =  input('Enter the string : ')\n",
    "i = int(input('Enter the value of i : '))\n",
    "\n",
    "res = \"\"\n",
    "\n",
    "for j in range(len(input_str)):\n",
    "    if j!= i:\n",
    "        res = res + input_str[j]\n",
    "\n",
    "print (f\"result after removal  of ith charcter: {res}\" )\n"
   ]
  },
  {
   "cell_type": "markdown",
   "metadata": {},
   "source": [
    "### 3.\tWrite a Python program to split and join a string?\n"
   ]
  },
  {
   "cell_type": "code",
   "execution_count": 18,
   "metadata": {},
   "outputs": [
    {
     "name": "stdout",
     "output_type": "stream",
     "text": [
      "['Full', 'Stack', 'data', 'science']\n",
      "Full-Stack-data-science\n"
     ]
    }
   ],
   "source": [
    "def split_str(string):\n",
    "    l_str = string.split(' ')\n",
    "    return l_str\n",
    "  \n",
    "def join_string(l_str):\n",
    "    string = '-'.join(l_str)\n",
    "    return string\n",
    "  \n",
    "if __name__ == '__main__':\n",
    "    string = 'Full Stack data science'\n",
    "  \n",
    "    l_str = split_str(string)\n",
    "    print(l_str)\n",
    "  \n",
    "    new_str= join_string(l_str)\n",
    "    print(new_str)"
   ]
  },
  {
   "cell_type": "markdown",
   "metadata": {},
   "source": [
    "### 4.\tWrite a Python to check if a given string is binary string or not?\n"
   ]
  },
  {
   "cell_type": "code",
   "execution_count": 20,
   "metadata": {},
   "outputs": [
    {
     "name": "stdout",
     "output_type": "stream",
     "text": [
      "Enter the binary string : 101110110\n",
      "The given string is binary string\n"
     ]
    }
   ],
   "source": [
    "input_str =  input('Enter the binary string : ')\n",
    "\n",
    "str_set = set(input_str)\n",
    "bin_value = {'0', '1'}\n",
    "  \n",
    "if (bin_value == str_set) or (str_set == {'0'}) or (str_set == {'1'}):\n",
    "    print(\"The given string is binary string\")\n",
    "else :\n",
    "    print(\"The given string is not a binary string\")\n"
   ]
  },
  {
   "cell_type": "markdown",
   "metadata": {},
   "source": [
    "### 5.\tWrite a Python program to find uncommon words from two Strings?\n"
   ]
  },
  {
   "cell_type": "code",
   "execution_count": 3,
   "metadata": {},
   "outputs": [
    {
     "name": "stdout",
     "output_type": "stream",
     "text": [
      "Enter first string : Full stack data science\n",
      "Enter second string : data science\n",
      "The uncommon words are   Full stack\n"
     ]
    }
   ],
   "source": [
    "str1 = input('Enter first string : ')\n",
    "str2 = input('Enter second string : ')\n",
    "\n",
    "str1_l = str1.split()\n",
    "str2_l = str2.split()\n",
    "uncommon_words = ''\n",
    "for i in str1_l:\n",
    "    if i not in str2_l:\n",
    "        uncommon_words = uncommon_words+\" \"+i\n",
    "for i in str2_l:\n",
    "    if i not in str1_l:\n",
    "        uncommon_words = uncommon_words+\" \"+ i\n",
    "print(f\"The uncommon words are  {uncommon_words}\")\n"
   ]
  },
  {
   "cell_type": "markdown",
   "metadata": {},
   "source": [
    "### 6.\tWrite a Python to find all duplicate characters in string?\n"
   ]
  },
  {
   "cell_type": "code",
   "execution_count": 3,
   "metadata": {},
   "outputs": [
    {
     "name": "stdout",
     "output_type": "stream",
     "text": [
      "Enter the string : hello world\n",
      "l o "
     ]
    }
   ],
   "source": [
    "input_str =  input('Enter the string : ')\n",
    "dup_ele = {}\n",
    "for char in input_str:\n",
    "    if char in dup_ele:\n",
    "        dup_ele[char] += 1\n",
    "    else:\n",
    "        dup_ele[char] = 1\n",
    "for i,j in dup_ele.items():\n",
    "    if j > 1:\n",
    "        print(i, end = \" \")\n"
   ]
  },
  {
   "cell_type": "markdown",
   "metadata": {},
   "source": [
    "### 7.\tWrite a Python Program to check if a string contains any special character?\n"
   ]
  },
  {
   "cell_type": "code",
   "execution_count": 7,
   "metadata": {},
   "outputs": [
    {
     "name": "stdout",
     "output_type": "stream",
     "text": [
      "Enter any string: d@t@ sc!ence\n",
      "The string contains special characters.\n"
     ]
    }
   ],
   "source": [
    "import re\n",
    "\n",
    "string = input('Enter any string: ')\n",
    "\n",
    "if(bool(re.match('^[a-zA-Z0-9]*$', string)) == True):\n",
    "    print('String does not contain any special characters.')\n",
    "else:\n",
    "    print('The string contains special characters.')"
   ]
  }
 ],
 "metadata": {
  "kernelspec": {
   "display_name": "Python 3",
   "language": "python",
   "name": "python3"
  },
  "language_info": {
   "codemirror_mode": {
    "name": "ipython",
    "version": 3
   },
   "file_extension": ".py",
   "mimetype": "text/x-python",
   "name": "python",
   "nbconvert_exporter": "python",
   "pygments_lexer": "ipython3",
   "version": "3.8.5"
  }
 },
 "nbformat": 4,
 "nbformat_minor": 4
}
