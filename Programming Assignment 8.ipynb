{
 "cells": [
  {
   "cell_type": "markdown",
   "metadata": {},
   "source": [
    "### 1.\tWrite a Python Program to Add Two Matrices?"
   ]
  },
  {
   "cell_type": "code",
   "execution_count": 5,
   "metadata": {},
   "outputs": [
    {
     "name": "stdout",
     "output_type": "stream",
     "text": [
      "[32, 24, 16]\n",
      "[18, 30, 22]\n",
      "[24, 36, 28]\n"
     ]
    }
   ],
   "source": [
    "mat1= [[21,12,3],\n",
    "       [4,15,6],\n",
    "       [7,18,9]]  \n",
    "mat2= [[11,12,13],  \n",
    "       [14,15,16],  \n",
    "       [17,18,19]]  \n",
    "res= [[0,0,0],  \n",
    "      [0,0,0],  \n",
    "      [0,0,0]]  \n",
    " \n",
    "for i in range(len(mat1)):  \n",
    "    for j in range(len(mat1[0])):  \n",
    "        res[i][j] = mat1[i][j] + mat2[i][j]  \n",
    "for r in res:\n",
    "    print(r)  \n"
   ]
  },
  {
   "cell_type": "markdown",
   "metadata": {},
   "source": [
    "### 2.\tWrite a Python Program to Multiply Two Matrices?"
   ]
  },
  {
   "cell_type": "code",
   "execution_count": 7,
   "metadata": {},
   "outputs": [
    {
     "name": "stdout",
     "output_type": "stream",
     "text": [
      "[450, 486, 522]\n",
      "[356, 381, 406]\n",
      "[482, 516, 550]\n"
     ]
    }
   ],
   "source": [
    "mat1= [[21,12,3],\n",
    "       [4,15,6],\n",
    "       [7,18,9]]  \n",
    "mat2= [[11,12,13],  \n",
    "       [14,15,16],  \n",
    "       [17,18,19]]  \n",
    "res= [[0,0,0],  \n",
    "      [0,0,0],  \n",
    "      [0,0,0]] \n",
    "\n",
    "for i in range(len(mat1)):\n",
    "  \n",
    "   for j in range(len(mat2[0])):\n",
    "      \n",
    "       for k in range(len(mat1)):\n",
    "            res[i][j] += mat1[i][k] * mat2[k][j]\n",
    "\n",
    "for r in res:\n",
    "    print(r)"
   ]
  },
  {
   "cell_type": "markdown",
   "metadata": {},
   "source": [
    "### 3.\tWrite a Python Program to Transpose a Matrix?"
   ]
  },
  {
   "cell_type": "code",
   "execution_count": 8,
   "metadata": {},
   "outputs": [
    {
     "name": "stdout",
     "output_type": "stream",
     "text": [
      "[1, 4, 6]\n",
      "[2, 5, 7]\n"
     ]
    }
   ],
   "source": [
    "mat = [[1,2],\n",
    "       [4 ,5],\n",
    "       [6,7]]\n",
    "\n",
    "res = [[0,0,0],\n",
    "        [0,0,0]]\n",
    "\n",
    "for i in range(len(mat)):\n",
    "    for j in range(len(mat[0])):\n",
    "        res[j][i] = mat[i][j]\n",
    "\n",
    "for r in res:\n",
    "    print(r)"
   ]
  },
  {
   "cell_type": "markdown",
   "metadata": {},
   "source": [
    "### 4.\tWrite a Python Program to Sort Words in Alphabetic Order?"
   ]
  },
  {
   "cell_type": "code",
   "execution_count": 17,
   "metadata": {},
   "outputs": [
    {
     "name": "stdout",
     "output_type": "stream",
     "text": [
      "Enter a string: Full stack data science course\n",
      "The sorted words in alphabetical order are:\n",
      "course\n",
      "data\n",
      "full\n",
      "science\n",
      "stack\n"
     ]
    }
   ],
   "source": [
    "string = input(\"Enter a string: \")\n",
    "\n",
    "words = [i.lower() for i in string.split()]\n",
    "words.sort()\n",
    "    \n",
    "print(\"The sorted words in alphabetical order are:\")\n",
    "\n",
    "for i in words:\n",
    "    print(i)"
   ]
  },
  {
   "cell_type": "markdown",
   "metadata": {},
   "source": [
    "### 5.\tWrite a Python Program to Remove Punctuation From a String?"
   ]
  },
  {
   "cell_type": "code",
   "execution_count": 20,
   "metadata": {},
   "outputs": [
    {
     "name": "stdout",
     "output_type": "stream",
     "text": [
      "hello  welcome to the data science course\n"
     ]
    }
   ],
   "source": [
    "def remove_punctuation(string):\n",
    "    punctuations = '''!()-[]{};:'\"\\,<>./?@#$%^&*_~'''\n",
    " \n",
    "    for i in string.lower():\n",
    "        if i in punctuations:\n",
    "            string = string.replace(i, \"\")\n",
    "    print(string)\n",
    "\n",
    "string = \"hello??? @@##$ welcome#$ to the% data science$^ course$%^&\"\n",
    "remove_punctuation(string)"
   ]
  }
 ],
 "metadata": {
  "kernelspec": {
   "display_name": "Python 3",
   "language": "python",
   "name": "python3"
  },
  "language_info": {
   "codemirror_mode": {
    "name": "ipython",
    "version": 3
   },
   "file_extension": ".py",
   "mimetype": "text/x-python",
   "name": "python",
   "nbconvert_exporter": "python",
   "pygments_lexer": "ipython3",
   "version": "3.8.5"
  }
 },
 "nbformat": 4,
 "nbformat_minor": 4
}
