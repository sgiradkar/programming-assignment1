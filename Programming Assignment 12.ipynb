{
 "cells": [
  {
   "cell_type": "markdown",
   "metadata": {},
   "source": [
    "### 1.\tWrite a Python program to Extract Unique values dictionary values?\n"
   ]
  },
  {
   "cell_type": "code",
   "execution_count": 3,
   "metadata": {},
   "outputs": [
    {
     "name": "stdout",
     "output_type": "stream",
     "text": [
      "The original dictionary is : {'k1': [25, 6, 17, 8], 'k2': [20, 11, 17, 5], 'k3': [6, 12, 10, 6], 'k4': [1, 2, 3]}\n",
      "The unique values list is : [1, 2, 3, 5, 6, 8, 10, 11, 12, 17, 20, 25]\n"
     ]
    }
   ],
   "source": [
    "dic= {'k1' : [25, 6, 17, 8],\n",
    "       'k2' : [20, 11, 17, 5],\n",
    "       'k3' : [6, 12, 10, 6],\n",
    "       'k4' : [1, 2, 3]}\n",
    "\n",
    "print(f\"The original dictionary is : {dic}\")\n",
    "  \n",
    "res = list(sorted({ele for val in dic.values() for ele in val}))\n",
    "  \n",
    "\n",
    "print(f\"The unique values list is : {res}\" ) "
   ]
  },
  {
   "cell_type": "markdown",
   "metadata": {},
   "source": [
    "### 2.\tWrite a Python program to find the sum of all items in a dictionary?\n"
   ]
  },
  {
   "cell_type": "code",
   "execution_count": 4,
   "metadata": {},
   "outputs": [
    {
     "name": "stdout",
     "output_type": "stream",
     "text": [
      "550\n"
     ]
    }
   ],
   "source": [
    "dic = {'k1':100,'k2':200,'k3':250}\n",
    "print(sum(dic.values()))"
   ]
  },
  {
   "cell_type": "markdown",
   "metadata": {},
   "source": [
    "### 3.\tWrite a Python program to Merging two Dictionaries?\n"
   ]
  },
  {
   "cell_type": "code",
   "execution_count": 5,
   "metadata": {},
   "outputs": [
    {
     "name": "stdout",
     "output_type": "stream",
     "text": [
      "{'k1': 100, 'k2': 600, 'k3': 600, 'k4': 400}\n"
     ]
    }
   ],
   "source": [
    "d1 = {'k1': 100, 'k2': 600}\n",
    "d2 = {'k3': 600, 'k4': 400}\n",
    "d = d1.copy()\n",
    "d.update(d2)\n",
    "print(d)"
   ]
  },
  {
   "cell_type": "markdown",
   "metadata": {},
   "source": [
    "### 4.\tWrite a Python program to convert key-values list to flat dictionary?\n"
   ]
  },
  {
   "cell_type": "code",
   "execution_count": 7,
   "metadata": {},
   "outputs": [
    {
     "name": "stdout",
     "output_type": "stream",
     "text": [
      "The dictionary is : \n",
      "{'month_num': [1, 2, 3, 4], 'name_of_month': ['Jan', 'Feb', 'March', 'Apr']}\n",
      "The flattened dictionary is: \n",
      "{1: 'Jan', 2: 'Feb', 3: 'March', 4: 'Apr'}\n"
     ]
    }
   ],
   "source": [
    "from itertools import product\n",
    "\n",
    "d = {'month_num' : [1, 2, 3, 4], 'name_of_month' : ['Jan', 'Feb', 'March', 'Apr']}\n",
    "\n",
    "print(\"The dictionary is : \")\n",
    "print(d)\n",
    "\n",
    "res= dict(zip(d['month_num'], d['name_of_month']))\n",
    "\n",
    "print(\"The flattened dictionary is: \")\n",
    "print(res)"
   ]
  },
  {
   "cell_type": "markdown",
   "metadata": {},
   "source": [
    "### 5.\tWrite a Python program to insertion at the beginning in OrderedDict?\n"
   ]
  },
  {
   "cell_type": "code",
   "execution_count": 10,
   "metadata": {},
   "outputs": [
    {
     "name": "stdout",
     "output_type": "stream",
     "text": [
      "Resultant Dictionary : OrderedDict([('rabbit', '3'), ('tiger', '1'), ('lion', '2')])\n"
     ]
    }
   ],
   "source": [
    "from collections import OrderedDict\n",
    "\n",
    "d = OrderedDict([('tiger', '1'), ('lion', '2')])\n",
    "\n",
    "d.update({'rabbit':'3'})\n",
    "d.move_to_end('rabbit', last = False)\n",
    "  \n",
    "\n",
    "print (f\"Resultant Dictionary : {d}\")"
   ]
  },
  {
   "cell_type": "markdown",
   "metadata": {},
   "source": [
    "### 6.\tWrite a Python program to check order of character in string using OrderedDict()?\n"
   ]
  },
  {
   "cell_type": "code",
   "execution_count": 17,
   "metadata": {},
   "outputs": [
    {
     "name": "stdout",
     "output_type": "stream",
     "text": [
      "False\n",
      "True\n"
     ]
    }
   ],
   "source": [
    "from collections import OrderedDict \n",
    "def check_order(string, pattern): \n",
    "    dic = OrderedDict.fromkeys(string) \n",
    "    i = 0\n",
    "    for key,value in dic.items(): \n",
    "        if (key == pattern[i]): \n",
    "            i = i + 1\n",
    "        if (i== (len(pattern))): \n",
    "            return 'True'\n",
    "    return 'False'\n",
    "\n",
    "str1 = 'data science'\n",
    "pattern1 = 'sic'\n",
    "print (check_order(str1,pattern1))\n",
    "\n",
    "str2= 'course'\n",
    "pattern2= 'cs'\n",
    "print (check_order(str2,pattern2)) "
   ]
  },
  {
   "cell_type": "markdown",
   "metadata": {},
   "source": [
    "### 7.\tWrite a Python program to sort Python Dictionaries by Key or Value?\n"
   ]
  },
  {
   "cell_type": "code",
   "execution_count": 23,
   "metadata": {},
   "outputs": [
    {
     "name": "stdout",
     "output_type": "stream",
     "text": [
      "[1, 2, 3, 4, 5, 6]\n",
      "[(1, 2), (2, 1), (3, 4), (4, 3), (5, 6), (6, 5)]\n"
     ]
    }
   ],
   "source": [
    "d= {1:2 ,2:1 ,4:3 ,3:4 ,6:5 ,5:6 }\n",
    "\n",
    "print(sorted(d.keys()))\n",
    "\n",
    "print(sorted(d.items()))\n"
   ]
  }
 ],
 "metadata": {
  "kernelspec": {
   "display_name": "Python 3",
   "language": "python",
   "name": "python3"
  },
  "language_info": {
   "codemirror_mode": {
    "name": "ipython",
    "version": 3
   },
   "file_extension": ".py",
   "mimetype": "text/x-python",
   "name": "python",
   "nbconvert_exporter": "python",
   "pygments_lexer": "ipython3",
   "version": "3.8.5"
  }
 },
 "nbformat": 4,
 "nbformat_minor": 4
}
