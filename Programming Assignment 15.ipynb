{
 "cells": [
  {
   "cell_type": "markdown",
   "metadata": {},
   "source": [
    "Question 1:\n",
    "Please write a program using generator to print the numbers which can be divisible by 5 and 7 between 0 and n in comma separated form while n is input by console.\n",
    "Example:\n",
    "If the following n is given as input to the program:\n",
    "100\n",
    "Then, the output of the program should be:\n",
    "0,35,70\n"
   ]
  },
  {
   "cell_type": "code",
   "execution_count": 3,
   "metadata": {},
   "outputs": [
    {
     "name": "stdout",
     "output_type": "stream",
     "text": [
      "0\n",
      "35\n",
      "70\n"
     ]
    }
   ],
   "source": [
    "def divBy(self):\n",
    "    for i in range(0, self.n):\n",
    "        if i % 5 == 0 and i%7==0:\n",
    "            yield i\n",
    "for num in iterator(100).divBy():\n",
    "    print (num)\n"
   ]
  },
  {
   "cell_type": "markdown",
   "metadata": {},
   "source": [
    "Question 2:\n",
    "Please write a program using generator to print the even numbers between 0 and n in comma separated form while n is input by console.\n",
    "Example:\n",
    "If the following n is given as input to the program:\n",
    "10\n",
    "Then, the output of the program should be:\n",
    "0,2,4,6,8,10\n"
   ]
  },
  {
   "cell_type": "code",
   "execution_count": 18,
   "metadata": {},
   "outputs": [
    {
     "name": "stdout",
     "output_type": "stream",
     "text": [
      "enter number10\n",
      "['0', '2', '4', '6', '8', '10']\n"
     ]
    }
   ],
   "source": [
    "def EvenGenerator(n):\n",
    "    i=0\n",
    "    while i<=n:\n",
    "        if i%2==0:\n",
    "            yield i\n",
    "        i+=1\n",
    "\n",
    "n=int(input(\"enter number\"))\n",
    "values = []\n",
    "for i in EvenGenerator(n):\n",
    "    values.append(str(i))\n",
    "print(values)"
   ]
  },
  {
   "cell_type": "markdown",
   "metadata": {},
   "source": [
    "Question 3:\n",
    "The Fibonacci Sequence is computed based on the following formula:\n",
    "f(n)=0 if n=0\n",
    "f(n)=1 if n=1\n",
    "f(n)=f(n-1)+f(n-2) if n>1\n",
    "Please write a program using list comprehension to print the Fibonacci Sequence in comma separated form with a given n input by console.\n",
    "Example:\n",
    "If the following n is given as input to the program:\n",
    "7\n",
    "\n",
    "Then, the output of the program should be:\n",
    "0,1,1,2,3,5,8,13\n"
   ]
  },
  {
   "cell_type": "code",
   "execution_count": 6,
   "metadata": {},
   "outputs": [
    {
     "name": "stdout",
     "output_type": "stream",
     "text": [
      "13\n"
     ]
    }
   ],
   "source": [
    "def Fibonacci(n):\n",
    "    if n<0:\n",
    "        print(\"Incorrect input\")\n",
    "   \n",
    "    elif n==0:\n",
    "        return 0\n",
    "   \n",
    "    elif n==1:\n",
    "        return 1\n",
    "    else:\n",
    "        return Fibonacci(n-1)+Fibonacci(n-2)\n",
    " \n",
    "\n",
    " \n",
    "print(Fibonacci(7))\n",
    " "
   ]
  },
  {
   "cell_type": "markdown",
   "metadata": {},
   "source": [
    "Question 4:\n",
    "Assuming that we have some email addresses in the \"username@companyname.com\" format, please write program to print the user name of a given email address. Both user names and company names are composed of letters only.\n",
    "Example:\n",
    "If the following email address is given as input to the program:\n",
    "john@google.com\n",
    "Then, the output of the program should be:\n",
    "john\n"
   ]
  },
  {
   "cell_type": "code",
   "execution_count": 23,
   "metadata": {},
   "outputs": [
    {
     "name": "stdout",
     "output_type": "stream",
     "text": [
      "john\n"
     ]
    }
   ],
   "source": [
    "def username(s):\n",
    "    try:\n",
    "        return s.split(\"@\")[0]\n",
    "    except:\n",
    "        print(\"This is not a email adress\")\n",
    "\n",
    "print(username(\"john@google.com\"))"
   ]
  },
  {
   "cell_type": "markdown",
   "metadata": {},
   "source": [
    "Question 5:\n",
    "Define a class named Shape and its subclass Square. The Square class has an init function which takes a length as argument. Both classes have a area function which can print the area of the shape where Shape's area is 0 by default.\n"
   ]
  },
  {
   "cell_type": "code",
   "execution_count": 5,
   "metadata": {},
   "outputs": [
    {
     "name": "stdout",
     "output_type": "stream",
     "text": [
      "16\n"
     ]
    }
   ],
   "source": [
    "class Shape:\n",
    "    def __init__(self,length):\n",
    "        self.length=length\n",
    "    def area(self):\n",
    "        print(\"area of shape is 0\")\n",
    "class Square(Shape):\n",
    "    def area(self,side):\n",
    "        return (side)**2\n",
    "    \n",
    "a=Square(0)\n",
    "\n",
    "print(a.area(4))\n",
    "    \n",
    "    "
   ]
  },
  {
   "cell_type": "code",
   "execution_count": null,
   "metadata": {},
   "outputs": [],
   "source": []
  }
 ],
 "metadata": {
  "kernelspec": {
   "display_name": "Python 3",
   "language": "python",
   "name": "python3"
  },
  "language_info": {
   "codemirror_mode": {
    "name": "ipython",
    "version": 3
   },
   "file_extension": ".py",
   "mimetype": "text/x-python",
   "name": "python",
   "nbconvert_exporter": "python",
   "pygments_lexer": "ipython3",
   "version": "3.8.5"
  }
 },
 "nbformat": 4,
 "nbformat_minor": 4
}
